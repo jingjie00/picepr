{
 "cells": [
  {
   "cell_type": "markdown",
   "metadata": {},
   "source": [
    "# Batch"
   ]
  },
  {
   "cell_type": "markdown",
   "metadata": {},
   "source": [
    "## JSON_object"
   ]
  },
  {
   "cell_type": "code",
   "execution_count": null,
   "metadata": {
    "vscode": {
     "languageId": "plaintext"
    }
   },
   "outputs": [],
   "source": [
    "data = {\n",
    "    \"custom_id\": str(id),\n",
    "    \"method\": \"POST\",\n",
    "    \"url\": \"/v1/chat/completions\",\n",
    "    \"body\": {\n",
    "        \"model\": \"gpt-3.5-turbo-0125\",\n",
    "        \"messages\": messages,\n",
    "        \"response_format\": { \"type\": \"json_object\" },\n",
    "        \"max_tokens\": 500,\n",
    "    }\n",
    "}"
   ]
  },
  {
   "cell_type": "markdown",
   "metadata": {},
   "source": [
    "## JSON_schema"
   ]
  },
  {
   "cell_type": "code",
   "execution_count": null,
   "metadata": {
    "vscode": {
     "languageId": "plaintext"
    }
   },
   "outputs": [],
   "source": [
    "response_format={\n",
    "  \"type\": \"json_schema\",\n",
    "  \"json_schema\": {\n",
    "    \"name\": \"user_personality_analysis\",\n",
    "    \"strict\": True,\n",
    "    \"schema\": {\n",
    "      \"type\": \"object\",\n",
    "      \"properties\": {\n",
    "        \"dimensions\": {\n",
    "          \"type\": \"object\",\n",
    "          \"properties\": {\n",
    "            \"Openness\": {\n",
    "              \"type\": \"object\",\n",
    "              \"properties\": {\n",
    "                \"evidence\": { \"type\": \"string\" },\n",
    "                \"label\": { \"type\": \"integer\", \"enum\": [0, 1] }\n",
    "              },\n",
    "              \"required\": [\"evidence\", \"label\"]\n",
    "            },\n",
    "            \"Conscientiousness\": {\n",
    "              \"type\": \"object\",\n",
    "              \"properties\": {\n",
    "                \"evidence\": { \"type\": \"string\" },\n",
    "                \"label\": { \"type\": \"integer\", \"enum\": [0, 1] }\n",
    "              },\n",
    "              \"required\": [\"evidence\", \"label\"]\n",
    "            },\n",
    "            \"Extraversion\": {\n",
    "              \"type\": \"object\",\n",
    "              \"properties\": {\n",
    "                \"evidence\": { \"type\": \"string\" },\n",
    "                \"label\": { \"type\": \"integer\", \"enum\": [0, 1] }\n",
    "              },\n",
    "              \"required\": [\"evidence\", \"label\"]\n",
    "            },\n",
    "            \"Agreeableness\": {\n",
    "              \"type\": \"object\",\n",
    "              \"properties\": {\n",
    "                \"evidence\": { \"type\": \"string\" },\n",
    "                \"label\": { \"type\": \"integer\", \"enum\": [0, 1] }\n",
    "              },\n",
    "              \"required\": [\"evidence\", \"label\"]\n",
    "            },\n",
    "            \"Neuroticism\": {\n",
    "              \"type\": \"object\",\n",
    "              \"properties\": {\n",
    "                \"evidence\": { \"type\": \"string\" },\n",
    "                \"label\": { \"type\": \"integer\", \"enum\": [0, 1] }\n",
    "              },\n",
    "              \"required\": [\"evidence\", \"label\"]\n",
    "            }\n",
    "          },\n",
    "          \"required\": [\"Openness\", \"Conscientiousness\", \"Extraversion\", \"Agreeableness\", \"Neuroticism\"]\n",
    "        }\n",
    "      },\n",
    "      \"required\": [\"dimensions\"]\n",
    "    }\n",
    "  }\n",
    "}\n"
   ]
  },
  {
   "cell_type": "markdown",
   "metadata": {},
   "source": [
    "# For Gemini"
   ]
  },
  {
   "cell_type": "code",
   "execution_count": null,
   "metadata": {
    "vscode": {
     "languageId": "plaintext"
    }
   },
   "outputs": [],
   "source": [
    "from google.ai.generativelanguage_v1beta.types import content\n",
    "generation_config = {\n",
    "    \"temperature\": 1,\n",
    "    \"top_p\": 0.95,\n",
    "    \"top_k\": 40,\n",
    "    \"max_output_tokens\": 8192,\n",
    "    \"response_schema\": content.Schema(\n",
    "        type=content.Type.OBJECT,\n",
    "        enum=[],\n",
    "        required=[\"dimensions\"],\n",
    "        properties={\n",
    "            \"dimensions\": content.Schema(\n",
    "                type=content.Type.OBJECT,\n",
    "                enum=[],\n",
    "                required=[\"Extraversion/Introversion\", \"Sensing/Intuition\", \"Thinking/Feeling\", \"Judging/Perceiving\"],\n",
    "                properties={\n",
    "                    \"Extraversion/Introversion\": content.Schema(\n",
    "                        type=content.Type.OBJECT,\n",
    "                        enum=[],\n",
    "                        required=[\"evidence\", \"type\"],\n",
    "                        properties={\n",
    "                            \"evidence\": content.Schema(\n",
    "                                type=content.Type.STRING,\n",
    "                            ),\n",
    "                            \"type\": content.Schema(\n",
    "                                type=content.Type.STRING,  # Using STRING to allow \"E/I\"\n",
    "                                enum=[\"E\", \"I\"],\n",
    "                            ),\n",
    "                        },\n",
    "                    ),\n",
    "                    \"Sensing/Intuition\": content.Schema(\n",
    "                        type=content.Type.OBJECT,\n",
    "                        enum=[],\n",
    "                        required=[\"evidence\", \"type\"],\n",
    "                        properties={\n",
    "                            \"evidence\": content.Schema(\n",
    "                                type=content.Type.STRING,\n",
    "                            ),\n",
    "                            \"type\": content.Schema(\n",
    "                                type=content.Type.STRING,  # Using STRING to allow \"S/N\"\n",
    "                                enum=[\"S\", \"N\"],\n",
    "                            ),\n",
    "                        },\n",
    "                    ),\n",
    "                    \"Thinking/Feeling\": content.Schema(\n",
    "                        type=content.Type.OBJECT,\n",
    "                        enum=[],\n",
    "                        required=[\"evidence\", \"type\"],\n",
    "                        properties={\n",
    "                            \"evidence\": content.Schema(\n",
    "                                type=content.Type.STRING,\n",
    "                            ),\n",
    "                            \"type\": content.Schema(\n",
    "                                type=content.Type.STRING,  # Using STRING to allow \"T/F\"\n",
    "                                enum=[\"T\", \"F\"],\n",
    "                            ),\n",
    "                        },\n",
    "                    ),\n",
    "                    \"Judging/Perceiving\": content.Schema(\n",
    "                        type=content.Type.OBJECT,\n",
    "                        enum=[],\n",
    "                        required=[\"evidence\", \"type\"],\n",
    "                        properties={\n",
    "                            \"evidence\": content.Schema(\n",
    "                                type=content.Type.STRING,\n",
    "                            ),\n",
    "                            \"type\": content.Schema(\n",
    "                                type=content.Type.STRING,  # Using STRING to allow \"J/P\"\n",
    "                                enum=[\"J\", \"P\"],\n",
    "                            ),\n",
    "                        },\n",
    "                    ),\n",
    "                },\n",
    "            ),\n",
    "        },\n",
    "    ),\n",
    "    \"response_mime_type\": \"application/json\",\n",
    "}"
   ]
  },
  {
   "cell_type": "markdown",
   "metadata": {},
   "source": [
    "## Run"
   ]
  },
  {
   "cell_type": "code",
   "execution_count": null,
   "metadata": {
    "vscode": {
     "languageId": "plaintext"
    }
   },
   "outputs": [],
   "source": [
    "batch = client.batches.create(\n",
    "    input_file_id=input_file.id,\n",
    "    endpoint=\"/v1/chat/completions\",\n",
    "    completion_window=\"24h\",\n",
    "    metadata={\n",
    "      \"description\": \"nightly eval job\"\n",
    "    }\n",
    ")"
   ]
  },
  {
   "cell_type": "code",
   "execution_count": null,
   "metadata": {
    "vscode": {
     "languageId": "plaintext"
    }
   },
   "outputs": [],
   "source": [
    "batch = client.batches.retrieve(batch.id)\n",
    "print(batch)"
   ]
  },
  {
   "cell_type": "code",
   "execution_count": null,
   "metadata": {
    "vscode": {
     "languageId": "plaintext"
    }
   },
   "outputs": [],
   "source": [
    "\n",
    "file_response = client.files.content(batch.output_file_id)\n",
    "#print(file_response.text)"
   ]
  },
  {
   "cell_type": "markdown",
   "metadata": {},
   "source": [
    "# Single"
   ]
  },
  {
   "cell_type": "code",
   "execution_count": null,
   "metadata": {
    "vscode": {
     "languageId": "plaintext"
    }
   },
   "outputs": [],
   "source": [
    "    response = client.chat.completions.create(\n",
    "        model=\"meta-llama-3.1-8b-instruct\",\n",
    "        messages=messages,\n",
    "        response_format=response_format\n",
    "    )"
   ]
  },
  {
   "cell_type": "markdown",
   "metadata": {},
   "source": [
    "## Fine Tune"
   ]
  },
  {
   "cell_type": "code",
   "execution_count": null,
   "metadata": {
    "vscode": {
     "languageId": "plaintext"
    }
   },
   "outputs": [],
   "source": [
    "response = client.fine_tuning.jobs.create(\n",
    "  training_file=input_file.id,\n",
    "  model=\"gpt-4o-mini-2024-07-18\",\n",
    "  hyperparameters={\n",
    "    \"n_epochs\":2\n",
    "  }\n",
    ")"
   ]
  },
  {
   "cell_type": "code",
   "execution_count": null,
   "metadata": {
    "vscode": {
     "languageId": "plaintext"
    }
   },
   "outputs": [],
   "source": [
    "fine_tune_details = client.fine_tuning.jobs.retrieve(response.id)\n",
    "print(fine_tune_details)"
   ]
  },
  {
   "cell_type": "markdown",
   "metadata": {},
   "source": [
    "# API Call"
   ]
  },
  {
   "cell_type": "markdown",
   "metadata": {},
   "source": [
    "## OPEN_AI/ OPEN_AI like"
   ]
  },
  {
   "cell_type": "code",
   "execution_count": null,
   "metadata": {
    "vscode": {
     "languageId": "plaintext"
    }
   },
   "outputs": [],
   "source": [
    "from openai import OpenAI\n",
    "client = OpenAI(api_key=\"_____\", base_url=\"http://localhost:1234/v1\")"
   ]
  },
  {
   "cell_type": "markdown",
   "metadata": {},
   "source": [
    "# Gemini"
   ]
  },
  {
   "cell_type": "code",
   "execution_count": null,
   "metadata": {
    "vscode": {
     "languageId": "plaintext"
    }
   },
   "outputs": [],
   "source": [
    "import google.generativeai as genai\n",
    "from google.ai.generativelanguage_v1beta.types import content\n",
    "genai.configure(api_key=\"______\")\n",
    "\n",
    "model = genai.GenerativeModel(\n",
    "    model_name=\"gemini-1.5-flash\",\n",
    "    generation_config=generation_config,\n",
    ")\n",
    "\n",
    "chat_session = model.start_chat(\n",
    "    history= [\n",
    "        \n",
    "    ]\n",
    ")\n",
    "response = chat_session.send_message(content=input)\n"
   ]
  }
 ],
 "metadata": {
  "language_info": {
   "name": "python"
  }
 },
 "nbformat": 4,
 "nbformat_minor": 2
}
