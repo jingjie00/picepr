{
 "cells": [
  {
   "cell_type": "markdown",
   "metadata": {},
   "source": [
    "# Essays"
   ]
  },
  {
   "cell_type": "code",
   "execution_count": null,
   "metadata": {
    "vscode": {
     "languageId": "plaintext"
    }
   },
   "outputs": [],
   "source": [
    "df = pd.DataFrame(columns=[\"id\",\"o_evi\", \"o_type\", \"c_evi\", \"c_type\", \"e_evi\", \"e_type\", \"a_evi\", \"a_type\", \"n_evi\", \"n_type\", \"summary\", \"O\", \"C\", \"E\", \"A\", \"N\"])\n",
    "\n",
    "for line in file_response.text.strip().split('\\n'):\n",
    "    line = json.loads(line)\n",
    "    custom_id = line[\"custom_id\"]\n",
    "    content = line[\"response\"][\"body\"][\"choices\"][0][\"message\"][\"content\"]\n",
    "\n",
    "    O = trainset[trainset[\"__index_level_0__\"] == int(custom_id)][\"O\"].values[0]\n",
    "    C = trainset[trainset[\"__index_level_0__\"] == int(custom_id)][\"C\"].values[0]\n",
    "    E = trainset[trainset[\"__index_level_0__\"] == int(custom_id)][\"E\"].values[0]\n",
    "    A = trainset[trainset[\"__index_level_0__\"] == int(custom_id)][\"A\"].values[0]\n",
    "    N = trainset[trainset[\"__index_level_0__\"] == int(custom_id)][\"N\"].values[0]\n",
    "\n",
    "    try:\n",
    "        content = json.loads(content)\n",
    "        summary = content[\"summary\"]\n",
    "        content = content[\"dimensions\"]\n",
    "\n",
    "        o_evi = content[\"Openness\"][\"evidence\"]\n",
    "        o_type = content[\"Openness\"][\"input_label\"]\n",
    "        c_evi = content[\"Conscientiousness\"][\"evidence\"]\n",
    "        c_type = content[\"Conscientiousness\"][\"input_label\"]\n",
    "        e_evi = content[\"Extraversion\"][\"evidence\"]\n",
    "        e_type = content[\"Extraversion\"][\"input_label\"]\n",
    "        a_evi = content[\"Agreeableness\"][\"evidence\"]\n",
    "        a_type = content[\"Agreeableness\"][\"input_label\"]\n",
    "        n_evi = content[\"Neuroticism\"][\"evidence\"]\n",
    "        n_type = content[\"Neuroticism\"][\"input_label\"]\n",
    "\n",
    "\n",
    "        #make to pandas\n",
    "        df = df.append({\"id\":custom_id, \"o_evi\": o_evi, \"o_type\": o_type, \"c_evi\": c_evi, \"c_type\": c_type, \"e_evi\": e_evi, \"e_type\": e_type, \"a_evi\": a_evi, \"a_type\": a_type, \"n_evi\": n_evi, \"n_type\": n_type, \"summary\": summary, \"O\":O, \"C\":C, \"E\":E, \"A\":A, \"N\":N}, ignore_index=True)\n",
    "    except:\n",
    "        #df = df.append({\"id\":custom_id,\"e_i_evi\": \"\", \"e_i_type\": \"\", \"s_n_evi\": \"\", \"s_n_type\": \"\", \"t_f_evi\": \"\", \"t_f_type\": \"\", \"j_p_evi\": \"\", \"j_p_type\": \"\", \"O\":O, \"C\":C, \"E\":E, \"A\":A}, ignore_index=True)\n",
    "        # append the content to a txt file\n",
    "        with open(name + '_error.txt', 'a') as f:\n",
    "            f.write(str(content))\n",
    "            f.write('\\n\\n')"
   ]
  },
  {
   "cell_type": "code",
   "execution_count": null,
   "metadata": {
    "vscode": {
     "languageId": "plaintext"
    }
   },
   "outputs": [],
   "source": [
    "df[\"o_type\"] = df[\"o_type\"].apply(lambda x: 1 if str(x) == \"1\" else 0 if str(x).upper() == \"0\" else -1).astype(int)\n",
    "df[\"c_type\"] = df[\"c_type\"].apply(lambda x: 1 if str(x) == \"1\" else 0 if str(x).upper() == \"0\" else -1).astype(int)\n",
    "df[\"e_type\"] = df[\"e_type\"].apply(lambda x: 1 if str(x) == \"1\" else 0 if str(x).upper() == \"0\" else -1).astype(int) \n",
    "df[\"a_type\"] = df[\"a_type\"].apply(lambda x: 1 if str(x) == \"1\" else 0 if str(x).upper() == \"0\" else -1).astype(int)\n",
    "df[\"n_type\"] = df[\"n_type\"].apply(lambda x: 1 if str(x) == \"1\" else 0 if str(x).upper() == \"0\" else -1).astype(int)\n",
    "\n",
    "#make int\n",
    "df[\"o_type\"] = df[\"o_type\"].astype(int)\n",
    "df[\"c_type\"] = df[\"c_type\"].astype(int)\n",
    "df[\"e_type\"] = df[\"e_type\"].astype(int)\n",
    "df[\"a_type\"] = df[\"a_type\"].astype(int)\n",
    "df[\"n_type\"] = df[\"n_type\"].astype(int)\n",
    "\n",
    "df[\"O\"] = df[\"O\"].astype(int)\n",
    "df[\"C\"] = df[\"C\"].astype(int)\n",
    "df[\"E\"] = df[\"E\"].astype(int)\n",
    "df[\"A\"] = df[\"A\"].astype(int)\n",
    "df[\"N\"] = df[\"N\"].astype(int)\n",
    "\n"
   ]
  },
  {
   "cell_type": "markdown",
   "metadata": {},
   "source": [
    "# Kaggle"
   ]
  },
  {
   "cell_type": "code",
   "execution_count": null,
   "metadata": {
    "vscode": {
     "languageId": "plaintext"
    }
   },
   "outputs": [],
   "source": [
    "df = pd.DataFrame(columns=[\"id\",\"o_evi\", \"o_type\", \"c_evi\", \"c_type\", \"e_evi\", \"e_type\", \"a_evi\", \"a_type\", \"n_evi\", \"n_type\", \"summary\", \"O\", \"C\", \"E\", \"A\"])\n",
    "\n",
    "for line in file_response.text.strip().split('\\n'):\n",
    "    line = json.loads(line)\n",
    "    custom_id = line[\"custom_id\"]\n",
    "    content = line[\"response\"][\"body\"][\"choices\"][0][\"message\"][\"content\"]\n",
    "\n",
    "    O = trainset[trainset[\"__index_level_0__\"] == int(custom_id)][\"O\"].values[0]\n",
    "    C = trainset[trainset[\"__index_level_0__\"] == int(custom_id)][\"C\"].values[0]\n",
    "    E = trainset[trainset[\"__index_level_0__\"] == int(custom_id)][\"E\"].values[0]\n",
    "    A = trainset[trainset[\"__index_level_0__\"] == int(custom_id)][\"A\"].values[0]\n",
    "    try:\n",
    "        content = json.loads(content)\n",
    "        summary = content[\"summary\"]\n",
    "        content = content[\"dimensions\"]\n",
    "\n",
    "        o_evi = content[\"Sensing/Intuition (S/N)\"][\"evidence\"]\n",
    "        o_type = content[\"Sensing/Intuition (S/N)\"][\"input_label\"]\n",
    "        c_evi = content[\"Judging/Perceiving (J/P)\"][\"evidence\"]\n",
    "        c_type = content[\"Judging/Perceiving (J/P)\"][\"input_label\"]\n",
    "        e_evi = content[\"Extraversion/Introversion (E/I)\"][\"evidence\"]\n",
    "        e_type = content[\"Extraversion/Introversion (E/I)\"][\"input_label\"]\n",
    "        a_evi = content[\"Thinking/Feeling (T/F)\"][\"evidence\"]\n",
    "        a_type = content[\"Thinking/Feeling (T/F)\"][\"input_label\"]\n",
    "        #make to pandas\n",
    "        df = df.append({\"id\":custom_id, \"o_evi\": o_evi, \"o_type\": o_type, \"c_evi\": c_evi, \"c_type\": c_type, \"e_evi\": e_evi, \"e_type\": e_type, \"a_evi\": a_evi, \"a_type\": a_type, \"summary\": summary, \"O\":O, \"C\":C, \"E\":E, \"A\":A}, ignore_index=True)\n",
    "    except:\n",
    "        #df = df.append({\"id\":custom_id,\"e_i_evi\": \"\", \"e_i_type\": \"\", \"s_n_evi\": \"\", \"s_n_type\": \"\", \"t_f_evi\": \"\", \"t_f_type\": \"\", \"j_p_evi\": \"\", \"j_p_type\": \"\", \"O\":O, \"C\":C, \"E\":E, \"A\":A}, ignore_index=True)\n",
    "        # append the content to a txt file\n",
    "        with open(name + '_error.txt', 'a') as f:\n",
    "            f.write(str(content))\n",
    "            f.write('\\n\\n')"
   ]
  },
  {
   "cell_type": "code",
   "execution_count": null,
   "metadata": {
    "vscode": {
     "languageId": "plaintext"
    }
   },
   "outputs": [],
   "source": [
    "df[\"o_type\"] = df[\"o_type\"].apply(lambda x: 1 if str(x) == \"N\" else 0 if str(x).upper() == \"S\" else -1).astype(int)\n",
    "df[\"c_type\"] = df[\"c_type\"].apply(lambda x: 1 if str(x) == \"J\" else 0 if str(x).upper() == \"P\" else -1).astype(int)\n",
    "df[\"e_type\"] = df[\"e_type\"].apply(lambda x: 1 if str(x) == \"E\" else 0 if str(x).upper() == \"I\" else -1).astype(int) \n",
    "df[\"a_type\"] = df[\"a_type\"].apply(lambda x: 1 if str(x) == \"F\" else 0 if str(x).upper() == \"T\" else -1).astype(int)\n",
    "\n",
    "#make int\n",
    "df[\"o_type\"] = df[\"o_type\"].astype(int)\n",
    "df[\"c_type\"] = df[\"c_type\"].astype(int)\n",
    "df[\"e_type\"] = df[\"e_type\"].astype(int)\n",
    "df[\"a_type\"] = df[\"a_type\"].astype(int)\n",
    "\n",
    "df[\"O\"] = df[\"O\"].astype(int)\n",
    "df[\"C\"] = df[\"C\"].astype(int)\n",
    "df[\"E\"] = df[\"E\"].astype(int)\n",
    "df[\"A\"] = df[\"A\"].astype(int)\n",
    "\n"
   ]
  }
 ],
 "metadata": {
  "language_info": {
   "name": "python"
  }
 },
 "nbformat": 4,
 "nbformat_minor": 2
}
