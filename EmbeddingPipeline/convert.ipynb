{
 "cells": [
  {
   "cell_type": "markdown",
   "metadata": {},
   "source": [
    "# Big5"
   ]
  },
  {
   "cell_type": "code",
   "execution_count": null,
   "metadata": {
    "vscode": {
     "languageId": "plaintext"
    }
   },
   "outputs": [],
   "source": [
    "df[\"o_type\"] = df[\"o_type\"].apply(lambda x: 1 if str(x) == \"1\" else 0 if str(x).upper() == \"0\" else -1).astype(int)\n",
    "df[\"c_type\"] = df[\"c_type\"].apply(lambda x: 1 if str(x) == \"1\" else 0 if str(x).upper() == \"0\" else -1).astype(int)\n",
    "df[\"e_type\"] = df[\"e_type\"].apply(lambda x: 1 if str(x) == \"1\" else 0 if str(x).upper() == \"0\" else -1).astype(int) \n",
    "df[\"a_type\"] = df[\"a_type\"].apply(lambda x: 1 if str(x) == \"1\" else 0 if str(x).upper() == \"0\" else -1).astype(int)\n",
    "df[\"n_type\"] = df[\"n_type\"].apply(lambda x: 1 if str(x) == \"1\" else 0 if str(x).upper() == \"0\" else -1).astype(int)"
   ]
  },
  {
   "cell_type": "markdown",
   "metadata": {},
   "source": [
    "# MBTI Conversion"
   ]
  },
  {
   "cell_type": "code",
   "execution_count": null,
   "metadata": {
    "vscode": {
     "languageId": "plaintext"
    }
   },
   "outputs": [],
   "source": [
    "df[\"e_i_type\"] = df[\"e_i_type\"].apply(lambda x: 1 if str(x).upper() == \"E\" else 0 if str(x).upper() == \"I\" else -1).astype(int)\n",
    "df[\"s_n_type\"] = df[\"s_n_type\"].apply(lambda x: 1 if str(x).upper() == \"N\" else 0 if str(x).upper() == \"S\" else -1).astype(int)\n",
    "df[\"t_f_type\"] = df[\"t_f_type\"].apply(lambda x: 1 if str(x).upper() == \"F\" else 0 if str(x).upper() == \"T\" else -1).astype(int)\n",
    "df[\"j_p_type\"] = df[\"j_p_type\"].apply(lambda x: 1 if str(x).upper() == \"J\" else 0 if str(x).upper() == \"P\" else -1).astype(int)\n",
    "\n",
    "# make int\n",
    "df[\"e_i_type\"] = df[\"e_i_type\"].fillna(-1).astype(int)\n",
    "df[\"s_n_type\"] = df[\"s_n_type\"].fillna(-1).astype(int)\n",
    "df[\"t_f_type\"] = df[\"t_f_type\"].fillna(-1).astype(int)\n",
    "df[\"j_p_type\"] = df[\"j_p_type\"].fillna(-1).astype(int)\n"
   ]
  },
  {
   "cell_type": "markdown",
   "metadata": {},
   "source": [
    "# Push\n"
   ]
  },
  {
   "cell_type": "code",
   "execution_count": null,
   "metadata": {
    "vscode": {
     "languageId": "plaintext"
    }
   },
   "outputs": [],
   "source": [
    "# push to huggingface\n",
    "from datasets import Dataset, DatasetDict\n",
    "dataset = Dataset.from_pandas(trainset_psy)\n",
    "\n",
    "train_dataset = Dataset.from_pandas(trainset_psy)\n",
    "test_dataset = Dataset.from_pandas(testset_psy)\n",
    "validation_dataset = Dataset.from_pandas(valset_psy)\n",
    "# Create a DatasetDict\n",
    "dataset_dict = DatasetDict({\n",
    "    \"train\": train_dataset,\n",
    "    \"validation\": validation_dataset,\n",
    "    \"evaluation\": test_dataset\n",
    "})\n",
    "\n",
    "dataset_dict.push_to_hub(\"jingjietan/essays-big5-psycho-openai-gpt-4omini\")"
   ]
  }
 ],
 "metadata": {
  "language_info": {
   "name": "python"
  }
 },
 "nbformat": 4,
 "nbformat_minor": 2
}
